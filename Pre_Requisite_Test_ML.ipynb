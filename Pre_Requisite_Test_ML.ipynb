{
  "nbformat": 4,
  "nbformat_minor": 0,
  "metadata": {
    "colab": {
      "provenance": []
    },
    "kernelspec": {
      "name": "python3",
      "display_name": "Python 3"
    },
    "language_info": {
      "name": "python"
    }
  },
  "cells": [
    {
      "cell_type": "markdown",
      "source": [
        "I am doing Q:5,6,10,11 in colab because I was facing error in installing jax, sympy, pandas in jupyter notebook after multiple tries."
      ],
      "metadata": {
        "id": "n8HlU5OkxvQZ"
      }
    },
    {
      "cell_type": "markdown",
      "source": [
        "Q:5 Use JAX to confirm the gradient evaluated by your method matches the analytical solution corresponding to a few random values of x and y"
      ],
      "metadata": {
        "id": "tZn9UL9iwb-m"
      }
    },
    {
      "cell_type": "code",
      "source": [
        "import jax\n",
        "import jax.numpy as jnp\n",
        "\n",
        "def f(x, y):\n",
        "    return x**2 * y + y**3 * jnp.sin(x)\n",
        "\n",
        "grad_f = jax.grad(f, argnums=(0, 1))\n",
        "\n",
        "x_val = 1.5\n",
        "y_val = 2.0\n",
        "dfdx, dfdy = grad_f(x_val, y_val)\n",
        "print(\"JAX gradient at (x=1.5, y=2.0):\")\n",
        "print(\"∂f/∂x =\", dfdx)\n",
        "print(\"∂f/∂y =\", dfdy)\n"
      ],
      "metadata": {
        "id": "R2XLsHpnwXWc"
      },
      "execution_count": null,
      "outputs": []
    },
    {
      "cell_type": "markdown",
      "source": [
        "Q:6 Use sympy to confirm that you obtain the same gradient analytically."
      ],
      "metadata": {
        "id": "gDWKpIoDwlQr"
      }
    },
    {
      "cell_type": "code",
      "source": [
        "import sympy\n",
        "\n",
        "x, y = sympy.symbols('x y')\n",
        "f_sym = x**2 * y + y**3 * sympy.sin(x)\n",
        "dfdx_sym = sympy.diff(f_sym, x)\n",
        "dfdy_sym = sympy.diff(f_sym, y)\n",
        "\n",
        "print('∂f/∂x =', dfdx_sym)\n",
        "print('∂f/∂y =', dfdy_sym)\n"
      ],
      "metadata": {
        "colab": {
          "base_uri": "https://localhost:8080/"
        },
        "id": "PG87C2KJwbez",
        "outputId": "949baea3-bf72-403e-8b73-41253a41d843"
      },
      "execution_count": 4,
      "outputs": [
        {
          "output_type": "stream",
          "name": "stdout",
          "text": [
            "∂f/∂x = 2*x*y + y**3*cos(x)\n",
            "∂f/∂y = x**2 + 3*y**2*sin(x)\n"
          ]
        }
      ]
    },
    {
      "cell_type": "markdown",
      "source": [
        "Question:10"
      ],
      "metadata": {
        "id": "4CimQURMxYvy"
      }
    },
    {
      "cell_type": "code",
      "source": [
        "import numpy as np\n",
        "import pandas as pd\n",
        "\n",
        "# Step 1: Generate a 20x5 matrix with random numbers from 1 to 2\n",
        "matrix = np.random.uniform(1, 2, size=(20, 5))\n",
        "\n",
        "# Step 2: Create a DataFrame with column names\n",
        "df = pd.DataFrame(matrix, columns=[\"a\", \"b\", \"c\", \"d\", \"e\"])\n",
        "\n",
        "# Step 3: Find the column with the highest standard deviation\n",
        "col_with_max_std = df.std().idxmax()\n",
        "\n",
        "# Step 4: Find the row with the lowest mean\n",
        "row_with_min_mean = df.mean(axis=1).idxmin()\n",
        "\n",
        "print(\"Generated DataFrame:\\n\", df)\n",
        "print(\"\\nColumn with highest standard deviation:\", col_with_max_std)\n",
        "print(\"Row index with lowest mean:\", row_with_min_mean)\n"
      ],
      "metadata": {
        "colab": {
          "base_uri": "https://localhost:8080/"
        },
        "id": "uKQN27U9xZ1f",
        "outputId": "f4a75d00-cb18-423b-de64-e640dbd2d03e"
      },
      "execution_count": 6,
      "outputs": [
        {
          "output_type": "stream",
          "name": "stdout",
          "text": [
            "Generated DataFrame:\n",
            "            a         b         c         d         e\n",
            "0   1.870563  1.999355  1.377873  1.502305  1.727615\n",
            "1   1.573617  1.668424  1.534098  1.919799  1.334488\n",
            "2   1.839626  1.600527  1.448599  1.847519  1.095765\n",
            "3   1.681774  1.946240  1.662660  1.443461  1.125278\n",
            "4   1.531291  1.285945  1.534621  1.524001  1.666880\n",
            "5   1.765012  1.267859  1.424002  1.217197  1.965104\n",
            "6   1.468800  1.785341  1.816294  1.704757  1.001422\n",
            "7   1.615585  1.103194  1.837966  1.759086  1.344788\n",
            "8   1.665653  1.543579  1.277535  1.719544  1.981380\n",
            "9   1.321048  1.882054  1.724313  1.177221  1.764425\n",
            "10  1.274412  1.536458  1.743323  1.448327  1.188002\n",
            "11  1.400297  1.123092  1.154474  1.160675  1.791155\n",
            "12  1.746836  1.360398  1.221366  1.975790  1.054533\n",
            "13  1.035005  1.362348  1.629302  1.053645  1.269683\n",
            "14  1.310609  1.062912  1.456608  1.004437  1.237740\n",
            "15  1.745029  1.949069  1.186020  1.626111  1.112594\n",
            "16  1.261472  1.564619  1.257172  1.247553  1.163044\n",
            "17  1.613474  1.872595  1.440992  1.803178  1.800685\n",
            "18  1.876588  1.899657  1.584845  1.313691  1.249302\n",
            "19  1.511577  1.257809  1.940465  1.515662  1.045678\n",
            "\n",
            "Column with highest standard deviation: e\n",
            "Row index with lowest mean: 14\n"
          ]
        }
      ]
    },
    {
      "cell_type": "markdown",
      "source": [
        "Question:11\n"
      ],
      "metadata": {
        "id": "VU-4yoAMxOZT"
      }
    },
    {
      "cell_type": "code",
      "source": [
        "import numpy as np\n",
        "import pandas as pd\n",
        "\n",
        "# Step 1: Generate a 20x5 matrix with random numbers between 1 and 2\n",
        "matrix = np.random.uniform(1, 2, size=(20, 5))\n",
        "\n",
        "# Step 2: Create DataFrame\n",
        "df = pd.DataFrame(matrix, columns=[\"a\", \"b\", \"c\", \"d\", \"e\"])\n",
        "\n",
        "# Step 3: Add column 'f' = sum of columns a..e\n",
        "df[\"f\"] = df[[\"a\", \"b\", \"c\", \"d\", \"e\"]].sum(axis=1)\n",
        "\n",
        "# Step 4: Add column 'g' based on 'f'\n",
        "df[\"g\"] = np.where(df[\"f\"] < 8, \"LT8\", \"GT8\")\n",
        "\n",
        "# Step 5: Number of rows where g == \"LT8\"\n",
        "lt8_count = (df[\"g\"] == \"LT8\").sum()\n",
        "\n",
        "# Step 6: Standard deviation of 'f' for LT8 and GT8 separately\n",
        "std_lt8 = df.loc[df[\"g\"] == \"LT8\", \"f\"].std()\n",
        "std_gt8 = df.loc[df[\"g\"] == \"GT8\", \"f\"].std()\n",
        "\n",
        "print(\"DataFrame:\\n\", df)\n",
        "print(\"\\nNumber of rows where g = LT8:\", lt8_count)\n",
        "print(\"Std deviation of f for LT8:\", std_lt8)\n",
        "print(\"Std deviation of f for GT8:\", std_gt8)\n"
      ],
      "metadata": {
        "colab": {
          "base_uri": "https://localhost:8080/"
        },
        "id": "8W9HlRrYxQFp",
        "outputId": "caadb189-e750-4b7e-aeae-d33f263a14bc"
      },
      "execution_count": 5,
      "outputs": [
        {
          "output_type": "stream",
          "name": "stdout",
          "text": [
            "DataFrame:\n",
            "            a         b         c         d         e         f    g\n",
            "0   1.211857  1.754236  1.733367  1.537611  1.057466  7.294538  LT8\n",
            "1   1.900219  1.456128  1.699527  1.700860  1.666523  8.423257  GT8\n",
            "2   1.593622  1.665934  1.562742  1.739136  1.758895  8.320330  GT8\n",
            "3   1.816564  1.102942  1.485216  1.921968  1.167810  7.494499  LT8\n",
            "4   1.659677  1.298749  1.669198  1.110283  1.823302  7.561209  LT8\n",
            "5   1.151719  1.417008  1.785591  1.705279  1.948080  8.007677  GT8\n",
            "6   1.885589  1.916573  1.763540  1.710066  1.571035  8.846803  GT8\n",
            "7   1.221102  1.110163  1.656279  1.485200  1.984786  7.457530  LT8\n",
            "8   1.995057  1.449187  1.445961  1.123325  1.253047  7.266576  LT8\n",
            "9   1.893397  1.047799  1.065173  1.678838  1.863180  7.548385  LT8\n",
            "10  1.207609  1.366913  1.550843  1.456394  1.326937  6.908695  LT8\n",
            "11  1.981505  1.096367  1.878176  1.192249  1.743136  7.891433  LT8\n",
            "12  1.522185  1.988320  1.595812  1.473392  1.941218  8.520927  GT8\n",
            "13  1.924159  1.294171  1.267060  1.923884  1.688441  8.097715  GT8\n",
            "14  1.209452  1.844083  1.720161  1.019107  1.345219  7.138022  LT8\n",
            "15  1.441010  1.155431  1.005980  1.841699  1.378953  6.823073  LT8\n",
            "16  1.423702  1.064555  1.321994  1.476016  1.366237  6.652505  LT8\n",
            "17  1.039404  1.308024  1.929802  1.353646  1.749490  7.380366  LT8\n",
            "18  1.206440  1.865966  1.994897  1.803581  1.571865  8.442749  GT8\n",
            "19  1.689015  1.909050  1.764566  1.871417  1.806954  9.041001  GT8\n",
            "\n",
            "Number of rows where g = LT8: 12\n",
            "Std deviation of f for LT8: 0.35332679321882926\n",
            "Std deviation of f for GT8: 0.3480231282333375\n"
          ]
        }
      ]
    }
  ]
}